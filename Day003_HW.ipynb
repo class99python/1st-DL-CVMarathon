{
 "cells": [
  {
   "cell_type": "markdown",
   "metadata": {},
   "source": [
    "# Python 下載XML檔案與解析\n",
    "\n",
    "\n",
    "* 了解 xml 檔案格式與內容\n",
    "* 能夠利用套件存取 xml 格式的檔案\n"
   ]
  },
  {
   "cell_type": "markdown",
   "metadata": {},
   "source": [
    "## 作業目標\n",
    "\n",
    "* 比較一下範例檔案中的「File I/O」與「xmltodict」讀出來的內容有什麼差異\n",
    "\n",
    "* 根據範例檔案的結果：\n",
    "    1. 請問高雄市有多少地區有溫度資料？\n",
    "    2. 請取出每一個地區所記錄的第一個時間點跟溫度\n",
    "    3. 請取出第一個地區所記錄的每一個時間點跟溫度"
   ]
  },
  {
   "cell_type": "markdown",
   "metadata": {},
   "source": [
    "### 比較一下範例檔案中的「File I/O」與「xmltodict」讀出來的內容有什麼差異\n"
   ]
  },
  {
   "cell_type": "code",
   "execution_count": 1,
   "metadata": {},
   "outputs": [
    {
     "name": "stdout",
     "output_type": "stream",
     "text": [
      "「File I/O」讀檔:  <class 'str'> string 型別\n",
      "「xmltodict」讀檔:  <class 'dict'> Dict 型別\n"
     ]
    }
   ],
   "source": [
    "# 「File I/O」讀檔\n",
    "fh = open(\"./data/xml/64_72hr_CH.xml\", \"r\", encoding='utf-8')\n",
    "xml = fh.read()\n",
    "fh.close()\n",
    "\n",
    "print('「File I/O」讀檔: ', type(xml), 'string 型別')\n",
    "\n",
    "# 「xmltodict」讀檔\n",
    "import xmltodict\n",
    "d = dict(xmltodict.parse(xml))\n",
    "print('「xmltodict」讀檔: ', type(d), 'Dict 型別')"
   ]
  },
  {
   "cell_type": "markdown",
   "metadata": {},
   "source": [
    "### 根據範例檔案的結果：\n",
    "\n",
    "1. 請問高雄市有多少地區有溫度資料？\n",
    "2. 請取出每一個地區所記錄的第一個時間點跟溫度\n",
    "3. 請取出第一個地區所記錄的每一個時間點跟溫度"
   ]
  },
  {
   "cell_type": "code",
   "execution_count": 2,
   "metadata": {},
   "outputs": [
    {
     "name": "stdout",
     "output_type": "stream",
     "text": [
      "高雄市有 38 個地區有溫度資料\n"
     ]
    }
   ],
   "source": [
    "# 1. 請問高雄市有多少地區有溫度資料？\n",
    "\n",
    "import xmltodict\n",
    "\n",
    "fh = open(\"./data/xml/64_72hr_CH.xml\", \"r\", encoding='utf-8')\n",
    "xml = fh.read()\n",
    "fh.close()\n",
    "\n",
    "d = dict(xmltodict.parse(xml))\n",
    "locations = d['cwbopendata']['dataset']['locations']['location']\n",
    "\n",
    "print('高雄市有', len(locations), '個地區有溫度資料')\n"
   ]
  },
  {
   "cell_type": "code",
   "execution_count": 3,
   "metadata": {},
   "outputs": [
    {
     "name": "stdout",
     "output_type": "stream",
     "text": [
      "鹽埕區 2020-11-23T12:00:00+08:00 28 度\n",
      "鼓山區 2020-11-23T12:00:00+08:00 28 度\n",
      "左營區 2020-11-23T12:00:00+08:00 27 度\n",
      "楠梓區 2020-11-23T12:00:00+08:00 28 度\n",
      "三民區 2020-11-23T12:00:00+08:00 27 度\n",
      "新興區 2020-11-23T12:00:00+08:00 28 度\n",
      "前金區 2020-11-23T12:00:00+08:00 28 度\n",
      "苓雅區 2020-11-23T12:00:00+08:00 28 度\n",
      "前鎮區 2020-11-23T12:00:00+08:00 28 度\n",
      "旗津區 2020-11-23T12:00:00+08:00 28 度\n",
      "小港區 2020-11-23T12:00:00+08:00 29 度\n",
      "鳳山區 2020-11-23T12:00:00+08:00 28 度\n",
      "林園區 2020-11-23T12:00:00+08:00 28 度\n",
      "大寮區 2020-11-23T12:00:00+08:00 29 度\n",
      "大樹區 2020-11-23T12:00:00+08:00 29 度\n",
      "大社區 2020-11-23T12:00:00+08:00 28 度\n",
      "仁武區 2020-11-23T12:00:00+08:00 28 度\n",
      "鳥松區 2020-11-23T12:00:00+08:00 29 度\n",
      "岡山區 2020-11-23T12:00:00+08:00 28 度\n",
      "橋頭區 2020-11-23T12:00:00+08:00 28 度\n",
      "燕巢區 2020-11-23T12:00:00+08:00 28 度\n",
      "田寮區 2020-11-23T12:00:00+08:00 28 度\n",
      "阿蓮區 2020-11-23T12:00:00+08:00 28 度\n",
      "路竹區 2020-11-23T12:00:00+08:00 28 度\n",
      "湖內區 2020-11-23T12:00:00+08:00 27 度\n",
      "茄萣區 2020-11-23T12:00:00+08:00 27 度\n",
      "永安區 2020-11-23T12:00:00+08:00 27 度\n",
      "彌陀區 2020-11-23T12:00:00+08:00 27 度\n",
      "梓官區 2020-11-23T12:00:00+08:00 27 度\n",
      "旗山區 2020-11-23T12:00:00+08:00 28 度\n",
      "美濃區 2020-11-23T12:00:00+08:00 29 度\n",
      "六龜區 2020-11-23T12:00:00+08:00 28 度\n",
      "甲仙區 2020-11-23T12:00:00+08:00 28 度\n",
      "杉林區 2020-11-23T12:00:00+08:00 30 度\n",
      "內門區 2020-11-23T12:00:00+08:00 29 度\n",
      "茂林區 2020-11-23T12:00:00+08:00 28 度\n",
      "桃源區 2020-11-23T12:00:00+08:00 26 度\n",
      "那瑪夏區 2020-11-23T12:00:00+08:00 25 度\n"
     ]
    }
   ],
   "source": [
    "# 2. 請取出每一個地區所記錄的第一個時間點跟溫度\n",
    "\n",
    "weathers = d['cwbopendata']['dataset']['locations']['location']\n",
    "\n",
    "for item in weathers:\n",
    "    w1 = item['weatherElement']\n",
    "    print(item['locationName'], w1[0]['time'][0]['dataTime'], \n",
    "          w1[0]['time'][0]['elementValue']['value'], '度')\n"
   ]
  },
  {
   "cell_type": "code",
   "execution_count": 4,
   "metadata": {},
   "outputs": [
    {
     "name": "stdout",
     "output_type": "stream",
     "text": [
      "鹽埕區\n",
      "2020-11-23T12:00:00+08:00 28 度\n",
      "2020-11-23T15:00:00+08:00 28 度\n",
      "2020-11-23T18:00:00+08:00 26 度\n",
      "2020-11-23T21:00:00+08:00 25 度\n",
      "2020-11-24T00:00:00+08:00 24 度\n",
      "2020-11-24T03:00:00+08:00 24 度\n",
      "2020-11-24T06:00:00+08:00 23 度\n",
      "2020-11-24T09:00:00+08:00 24 度\n",
      "2020-11-24T12:00:00+08:00 27 度\n",
      "2020-11-24T15:00:00+08:00 27 度\n",
      "2020-11-24T18:00:00+08:00 26 度\n",
      "2020-11-24T21:00:00+08:00 25 度\n",
      "2020-11-25T00:00:00+08:00 24 度\n",
      "2020-11-25T03:00:00+08:00 23 度\n",
      "2020-11-25T06:00:00+08:00 23 度\n",
      "2020-11-25T09:00:00+08:00 24 度\n",
      "2020-11-25T12:00:00+08:00 27 度\n",
      "2020-11-25T15:00:00+08:00 27 度\n",
      "2020-11-25T18:00:00+08:00 26 度\n",
      "2020-11-25T21:00:00+08:00 25 度\n",
      "2020-11-26T00:00:00+08:00 24 度\n",
      "2020-11-26T03:00:00+08:00 24 度\n",
      "2020-11-26T06:00:00+08:00 24 度\n",
      "2020-11-26T09:00:00+08:00 25 度\n"
     ]
    }
   ],
   "source": [
    "# 3. 請取出第一個地區所記錄的每一個時間點跟溫度\n",
    "\n",
    "weathers = d['cwbopendata']['dataset']['locations']['location']\n",
    "\n",
    "item = weathers[0]\n",
    "temperatures = item['weatherElement'][0]['time']\n",
    "print(item['locationName'])\n",
    "for t in temperatures:\n",
    "    print(t['dataTime'], t['elementValue']['value'], '度')\n"
   ]
  },
  {
   "cell_type": "code",
   "execution_count": null,
   "metadata": {},
   "outputs": [],
   "source": []
  }
 ],
 "metadata": {
  "kernelspec": {
   "display_name": "Python 3",
   "language": "python",
   "name": "python3"
  },
  "language_info": {
   "codemirror_mode": {
    "name": "ipython",
    "version": 3
   },
   "file_extension": ".py",
   "mimetype": "text/x-python",
   "name": "python",
   "nbconvert_exporter": "python",
   "pygments_lexer": "ipython3",
   "version": "3.8.3"
  }
 },
 "nbformat": 4,
 "nbformat_minor": 2
}
